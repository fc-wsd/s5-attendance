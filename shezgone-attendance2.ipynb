{
 "cells": [
  {
   "cell_type": "markdown",
   "metadata": {},
   "source": [
    "## 과제2출석부 만들기"
   ]
  },
  {
   "cell_type": "code",
   "execution_count": 210,
   "metadata": {},
   "outputs": [],
   "source": [
    "import time\n",
    "students = ['jeongyoon cha', 'sancho suh', 'hyunduk choi', 'seungho shin', 'jonglok kim', 'yongmin kim',\n",
    "    'hyojoon lee', 'hanjunghyun', 'seunghyun lee', 'jungil yang', 'jarang seo']"
   ]
  },
  {
   "cell_type": "code",
   "execution_count": 211,
   "metadata": {},
   "outputs": [],
   "source": [
    "class Student(object):\n",
    "    name = \"\"\n",
    "    age = 0\n",
    "    \n",
    "    def __init__(self, name) :\n",
    "        self.name = name\n",
    "    \n",
    "    def name():\n",
    "        return self.name"
   ]
  },
  {
   "cell_type": "code",
   "execution_count": 212,
   "metadata": {},
   "outputs": [],
   "source": [
    "class Attendance(object):\n",
    "    \n",
    "    attendances = []\n",
    "\n",
    "    def attend(self,obj):\n",
    "        now = time.localtime()\n",
    "        temp = {\"name\":obj.name,\"date\":\"%04d-%02d-%02d %02d:%02d\" % (now.tm_year, now.tm_mon, now.tm_mday, now.tm_hour, now.tm_min)}\n",
    "        self.attendances.append(temp)\n",
    "    \n",
    "    def list(self):\n",
    "        for att in self.attendances:\n",
    "            print (att)"
   ]
  },
  {
   "cell_type": "markdown",
   "metadata": {},
   "source": [
    "### attend 메소드로 2명 추가"
   ]
  },
  {
   "cell_type": "code",
   "execution_count": 213,
   "metadata": {},
   "outputs": [],
   "source": [
    "a1 = Attendance()\n",
    "s1 = Student(\"jarang seo\")\n",
    "a1.attend(s1)\n",
    "s2 = Student(\"yongmin kim\")\n",
    "a1.attend(s1)"
   ]
  },
  {
   "cell_type": "markdown",
   "metadata": {},
   "source": [
    "### Attendance 객체 내용 출력"
   ]
  },
  {
   "cell_type": "code",
   "execution_count": 214,
   "metadata": {},
   "outputs": [
    {
     "name": "stdout",
     "output_type": "stream",
     "text": [
      "{'name': 'jarang seo', 'date': '2016-02-15 12:21'}\n",
      "{'name': 'jarang seo', 'date': '2016-02-15 12:21'}\n"
     ]
    }
   ],
   "source": [
    "a1.list()"
   ]
  },
  {
   "cell_type": "code",
   "execution_count": null,
   "metadata": {},
   "outputs": [],
   "source": [
    ""
   ]
  },
  {
   "cell_type": "code",
   "execution_count": null,
   "metadata": {},
   "outputs": [],
   "source": [
    ""
   ]
  }
 ],
 "metadata": {
  "kernelspec": {
   "display_name": "Python 3",
   "language": "python",
   "name": "python3"
  },
  "language_info": {
   "codemirror_mode": {
    "name": "ipython",
    "version": 3.0
   },
   "file_extension": ".py",
   "mimetype": "text/x-python",
   "name": "python",
   "nbconvert_exporter": "python",
   "pygments_lexer": "ipython3",
   "version": "3.4.4"
  }
 },
 "nbformat": 4,
 "nbformat_minor": 0
}